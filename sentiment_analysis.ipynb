{
  "nbformat": 4,
  "nbformat_minor": 0,
  "metadata": {
    "colab": {
      "provenance": [],
      "authorship_tag": "ABX9TyOlufqq68Nnie3AgfR3P80G",
      "include_colab_link": true
    },
    "kernelspec": {
      "name": "python3",
      "display_name": "Python 3"
    },
    "language_info": {
      "name": "python"
    }
  },
  "cells": [
    {
      "cell_type": "markdown",
      "metadata": {
        "id": "view-in-github",
        "colab_type": "text"
      },
      "source": [
        "<a href=\"https://colab.research.google.com/github/Adithya-Siddam/Project-Based-Experiment-AAI/blob/main/sentiment_analysis.ipynb\" target=\"_parent\"><img src=\"https://colab.research.google.com/assets/colab-badge.svg\" alt=\"Open In Colab\"/></a>"
      ]
    },
    {
      "cell_type": "code",
      "execution_count": 4,
      "metadata": {
        "colab": {
          "base_uri": "https://localhost:8080/"
        },
        "id": "NCDLBOxVQWCO",
        "outputId": "3e1b3d25-1c6e-4681-9359-c8f9cdc6a173"
      },
      "outputs": [
        {
          "output_type": "stream",
          "name": "stdout",
          "text": [
            "Sentiment Analysis Results:\n",
            "Positive comments: 732\n",
            "Negative comments: 85\n",
            "Neutral comments: 183\n",
            "Occurrences of 'Adithya Chowdary': 0\n"
          ]
        }
      ],
      "source": [
        "import pandas as pd\n",
        "from textblob import TextBlob\n",
        "\n",
        "data = pd.read_csv(\"fb_sentiment.csv\")\n",
        "\n",
        "given_name = \"Adithya Chowdary\"\n",
        "\n",
        "sentiment_counts = {'positive': 0, 'negative': 0, 'neutral': 0}\n",
        "\n",
        "name_occurrences = sum(post.lower().count(given_name.lower()) for post in data['FBPost'])\n",
        "\n",
        "for post in data['FBPost']:\n",
        "    polarity = TextBlob(post).sentiment.polarity\n",
        "    sentiment_counts['positive'] += polarity > 0\n",
        "    sentiment_counts['negative'] += polarity < 0\n",
        "    sentiment_counts['neutral'] += polarity == 0\n",
        "\n",
        "print(\"Sentiment Analysis Results:\")\n",
        "for sentiment, count in sentiment_counts.items():\n",
        "    print(f\"{sentiment.capitalize()} comments: {count}\")\n",
        "\n",
        "print(f\"Occurrences of '{given_name}': {name_occurrences}\")\n"
      ]
    }
  ]
}